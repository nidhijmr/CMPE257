{
 "cells": [
  {
   "cell_type": "markdown",
   "metadata": {},
   "source": [
    "Machine Learning Assignment 7 - K-Nearset Neighbor(KNN)\n",
    "Course code : CMPE-257 Group name : Seekers\n",
    "\n",
    "Members :\n",
    "\n",
    "       * Anuradha Rajashekar(012409956)\n",
    "       * Ashwini Shankar Narayan(012506910)\n",
    "       * Nidhi Jamar(010070593)\n",
    "       * Sindhu Goudru Shivanandappa Patil(010823683)\n",
    "1. Data Story\n",
    "The data in the dataset is from a real Czech bank from 1999. The data is about clients and their accounts and has relation account, client, disposiiton,permanent order, transaction, loan, credit card and demographic data. Relations 'loans' and 'credit card' describe some services which bank offers to its clients. More credit cards can be issued to an account but atmost one loan can be granted for an account. The business objective is to analyze the transactional behavior of the customers and predict the loan approval status for the same customers.This is useful in cases where credit card companies provide pre approved loans for customers based on their payment and other factors. To acheive this, the below mentioned steps are followed:\n",
    "\n",
    "Data preparation and enrichment by adding account details - Ashwini Shankar Narayan\n",
    "\n",
    "Identifying the categorical value from the features in dataset and data transformation - Anuradha Rajashekar\n",
    "\n",
    "Test train split function for applying the classification - Sindhu Goudru Shivanandappa Patil\n",
    "\n",
    "Applying K Nearest Neighbor and measuring the model accuracy - Nidhi Jamar\n",
    "\n",
    "Drawing conclusion post application - Team"
   ]
  },
  {
   "cell_type": "markdown",
   "metadata": {},
   "source": [
    "2 . Dataset Selection\n",
    "Dataset Link : https://data.world/lpetrocelli/czech-financial-dataset-real-anonymized-transactions"
   ]
  },
  {
   "cell_type": "markdown",
   "metadata": {},
   "source": [
    "3. Data Preparation\n",
    "In data preparation step, we read and preprocess the data to identify and remove invlaid values such as ? or NA. Here, we read and parse all the csv files in the dataset using the pandas dataframe.Pandas provide a unique advantage over other libraries in preprocessing the data by providing inbuilt APIs for all the math operations on selected row/column or full dataset. If there are any invalid values, fill it with the median value of the column."
   ]
  },
  {
   "cell_type": "code",
   "execution_count": 1,
   "metadata": {},
   "outputs": [
    {
     "name": "stderr",
     "output_type": "stream",
     "text": [
      "/anaconda3/lib/python3.6/site-packages/IPython/core/interactiveshell.py:2785: DtypeWarning: Columns (8) have mixed types. Specify dtype option on import or set low_memory=False.\n",
      "  interactivity=interactivity, compiler=compiler, result=result)\n"
     ]
    }
   ],
   "source": [
    "import numpy as np\n",
    "import matplotlib.pyplot as plt\n",
    "import pandas as pd\n",
    "import pydotplus\n",
    "import collections\n",
    "from sklearn import tree\n",
    "from sklearn.tree import DecisionTreeClassifier\n",
    "from sklearn.metrics import accuracy_score\n",
    "from IPython.display import Image\n",
    "\n",
    "# Read the original CSV files using Pandas\n",
    "trans_d = pd.read_csv(\"data/data/trans.csv\")\n",
    "loan_d = pd.read_csv(\"data/data/loan.csv\")\n",
    "account_d = pd.read_csv(\"data/data/account.csv\")\n",
    "client_d = pd.read_csv(\"data/data/client.csv\")\n",
    "disp_d = pd.read_csv(\"data/data/disp.csv\")"
   ]
  },
  {
   "cell_type": "markdown",
   "metadata": {},
   "source": [
    "Collect the data from multiple CSVs to merge together for an account_id\n",
    "The loan dataset contains only loan details with accountid. No other information of the client is present in loan dataset. Therefore, we are adding account creation date, account login frequency, date of birth of the client and the district id - loaction of the branch to the loan dataset. The output of this section shows that there are no missing/ invalid values."
   ]
  },
  {
   "cell_type": "code",
   "execution_count": 2,
   "metadata": {},
   "outputs": [],
   "source": [
    "_column_date = []\n",
    "_column_frequency = []\n",
    "_column_district = []\n",
    "_column_clientdob =[]\n",
    "for c in loan_d['account_id']:\n",
    "    _result = account_d.loc[account_d['account_id'] == c]\n",
    "    _column_date.append(_result['date'].iloc[0])\n",
    "    _column_frequency.append(_result['frequency'].iloc[0])\n",
    "    _column_district.append(_result['district_id'].iloc[0])\n",
    "    _result = disp_d.loc[disp_d['account_id'] == c]\n",
    "    _result = client_d.loc[client_d['client_id'] == _result['client_id'].iloc[0]]\n",
    "    _column_clientdob.append(_result['birth_number'].iloc[0])\n"
   ]
  },
  {
   "cell_type": "markdown",
   "metadata": {},
   "source": [
    "Add extra information about account"
   ]
  },
  {
   "cell_type": "code",
   "execution_count": 3,
   "metadata": {},
   "outputs": [],
   "source": [
    "loan_d['account_date'] = _column_date\n",
    "loan_d['account_loginfrequency'] = _column_frequency\n",
    "loan_d['account_district'] = _column_district\n",
    "loan_d['client_birthNumber'] = _column_clientdob"
   ]
  },
  {
   "cell_type": "markdown",
   "metadata": {},
   "source": [
    "Look for missing data and printing unique value in column 'Status' and 'account_loginfrequency'"
   ]
  },
  {
   "cell_type": "code",
   "execution_count": 4,
   "metadata": {},
   "outputs": [
    {
     "name": "stdout",
     "output_type": "stream",
     "text": [
      "loan_id                   0\n",
      "account_id                0\n",
      "date                      0\n",
      "amount                    0\n",
      "duration                  0\n",
      "payments                  0\n",
      "status                    0\n",
      "account_date              0\n",
      "account_loginfrequency    0\n",
      "account_district          0\n",
      "client_birthNumber        0\n",
      "dtype: int64\n",
      "Unique values in status :['B', 'A', 'C', 'D']\n",
      "Unique values in account login frequency :['POPLATEK TYDNE', 'POPLATEK MESICNE', 'POPLATEK PO OBRATU']\n"
     ]
    }
   ],
   "source": [
    "missing = loan_d.isna().sum()\n",
    "print(missing)\n",
    "\n",
    "_statusUnique = list(loan_d['status'].unique())\n",
    "_freqUnique = list(loan_d['account_loginfrequency'].unique())\n",
    "print('Unique values in status :{}'.format(_statusUnique))\n",
    "print('Unique values in account login frequency :{}'.format(_freqUnique))"
   ]
  },
  {
   "cell_type": "markdown",
   "metadata": {},
   "source": [
    "4. Identifying a categorical value in the dataset\n",
    "Here, the only two features with unique categorical and String values in the datasets are 'status' and 'account_loginfrequency'. Therefore, we need to convert them to integer values.\n",
    "\n",
    "From the output, we understand that 'status' feature has 4 unique values: 'A', 'B', 'C' and 'D'.\n",
    "\n",
    "A stands for contract finished, no problem,\n",
    "B stands for contract finished, loan not payed,\n",
    "C stands for running contract, OK so far and\n",
    "D stands for running contract, client in debt.\n",
    "Similarly, from the output, we understand that 'account_loginfrequency'(frequency of issuance of statements) has 3 unique values: 'POPLATEK TYDNE', 'POPLATEK MESICNE', 'POPLATEK PO OBRATU'.\n",
    "\n",
    "\"POPLATEK TYDNE\" stands for monthly issuance,\n",
    "\"POPLATEK TYDNE\" stands for weekly issuance and\n",
    "\"POPLATEK PO OBRATU\" stands for issuance after transaction.\n",
    "Here, we are using index values of these feature tuples to set an integer value. For example, in 'status' feature class B willbe assigned integer value 0.\n",
    "\n",
    "The model is not able to differentiate between clients who have finished contract and who have not finished contract clearly beacuse there is no column in loan dataset which says whether the contract is finished or not. Therefore, We are reducing the number of classes to binary i.e two classes by classifying as clients who are paying loan regularly and who are not paying regularly."
   ]
  },
  {
   "cell_type": "markdown",
   "metadata": {},
   "source": [
    "Convert String to numerical values\n",
    "Replace each of the values in status and account_loginfrequency with their corresponding index. Example: Status B will be placed by 0, Status A replaced by 1 and etc."
   ]
  },
  {
   "cell_type": "code",
   "execution_count": 5,
   "metadata": {},
   "outputs": [],
   "source": [
    "loan_d['status'] = [_statusUnique.index(item) for item in loan_d['status']] \n",
    "loan_d['account_loginfrequency'] = [_freqUnique.index(item) for item in loan_d['account_loginfrequency']] "
   ]
  },
  {
   "cell_type": "markdown",
   "metadata": {},
   "source": [
    "Transform the data in status column to binary\n",
    "The model is not able to differentiate between clients who have finished the contract and who have not finished contract clearly beacuse there is no column in loan dataset which says whether the contract is finished or not. Therefore, We are reducing the number of classes to binary i.e two classes. This is done by classifying as clients who are paying loan regularly and who are not paying regularly. In other words, transform the data in the status column to binary, by replacing 0 and 3 as 0, 1 and 2 as 1"
   ]
  },
  {
   "cell_type": "code",
   "execution_count": 6,
   "metadata": {},
   "outputs": [],
   "source": [
    "_temp = []\n",
    "for d in loan_d['status']:\n",
    "    if(d==0 or d==3):\n",
    "        _temp.append(0)\n",
    "    else:\n",
    "        _temp.append(1)\n",
    "loan_d['binary_status']  = _temp  "
   ]
  },
  {
   "cell_type": "markdown",
   "metadata": {},
   "source": [
    "Split the data to 70% training data and 30% test data to train model"
   ]
  },
  {
   "cell_type": "code",
   "execution_count": 7,
   "metadata": {},
   "outputs": [],
   "source": [
    "from sklearn.model_selection import train_test_split\n",
    "cols = list(loan_d.columns)\n",
    "cols.remove('loan_id')\n",
    "cols.remove('account_id')\n",
    "cols.remove('status')\n",
    "cols.remove('binary_status')\n",
    "X = loan_d[cols].iloc[ :, 0:].values\n",
    "Y = loan_d['status']\n",
    "Y_bin = loan_d['binary_status']\n",
    "X_train, X_test, y_train, y_test = train_test_split(X, Y, test_size=0.3, random_state=71)\n",
    "\n",
    "X_train_bin, X_test_bin, y_train_bin, y_test_bin = train_test_split(X, Y_bin, test_size=0.3, random_state=12)"
   ]
  },
  {
   "cell_type": "markdown",
   "metadata": {},
   "source": [
    "K-Nearset Neighbor  on \"status\" feature and training data for multiclass classification\n",
    "Applying Naive Bayes classifier on \"status\" feature and training data for multiclass classification. Calculated accuracy of the predicted data(y_test, y_pred)"
   ]
  },
  {
   "cell_type": "code",
   "execution_count": 8,
   "metadata": {},
   "outputs": [
    {
     "name": "stdout",
     "output_type": "stream",
     "text": [
      "72.6829268292683\n"
     ]
    }
   ],
   "source": [
    "from sklearn.neighbors import KNeighborsClassifier \n",
    "\n",
    "model = KNeighborsClassifier(n_neighbors=4)\n",
    "\n",
    "model.fit(X_train, y_train)\n",
    "y_pred = model.predict(X_test)\n",
    "\n",
    "print(accuracy_score(y_test,y_pred)*100)"
   ]
  },
  {
   "cell_type": "code",
   "execution_count": 9,
   "metadata": {},
   "outputs": [
    {
     "name": "stdout",
     "output_type": "stream",
     "text": [
      "[[  0   3   5   0]\n",
      " [  2  49  10   0]\n",
      " [  2  22 100   1]\n",
      " [  1   1   9   0]]\n"
     ]
    }
   ],
   "source": [
    "from sklearn.metrics import confusion_matrix\n",
    "\n",
    "print(confusion_matrix(y_test, y_pred))  "
   ]
  },
  {
   "cell_type": "markdown",
   "metadata": {},
   "source": [
    "K-Nearset Neighbor on \"status\" feature and training data for binary classification\n",
    "Applying K-Nearset Neighbor on \"status\" feature and training data for binary classification. After making 'status' feature as binary, the precision increased from 72.68% to 86.4% meaning the model is now able to clearly distinguish between clients paying loan regularly and not paying."
   ]
  },
  {
   "cell_type": "code",
   "execution_count": 12,
   "metadata": {},
   "outputs": [
    {
     "name": "stdout",
     "output_type": "stream",
     "text": [
      "86.34146341463415\n"
     ]
    }
   ],
   "source": [
    "from sklearn.neighbors import KNeighborsClassifier \n",
    "\n",
    "binay_model = KNeighborsClassifier(n_neighbors=4).fit(X_train_bin, y_train_bin)  \n",
    "\n",
    "y_pred_bin = binay_model.predict(X_test_bin)\n",
    "\n",
    "print(accuracy_score(y_test_bin,y_pred_bin)*100)"
   ]
  },
  {
   "cell_type": "markdown",
   "metadata": {},
   "source": [
    "Conclusion\n",
    "The accuracy of predicting the \"status\" feature incase of K Nearest Neighbor for multiclass classifier was 86.3%. Now, on using Naive Bayes for predicting the same feature for multiclass classifier, the accuracy is increased to 84.88%. Also, incase of Decision tree for binary classifier, it was 86.34% and on using Naive Bayes for predicting the same feature for binary classifier, it has increased to 91.71%. It is evident that the Naive Bayes Classifier has performed better in our business case."
   ]
  },
  {
   "cell_type": "code",
   "execution_count": null,
   "metadata": {},
   "outputs": [],
   "source": []
  }
 ],
 "metadata": {
  "kernelspec": {
   "display_name": "Python 3",
   "language": "python",
   "name": "python3"
  },
  "language_info": {
   "codemirror_mode": {
    "name": "ipython",
    "version": 3
   },
   "file_extension": ".py",
   "mimetype": "text/x-python",
   "name": "python",
   "nbconvert_exporter": "python",
   "pygments_lexer": "ipython3",
   "version": "3.6.5"
  }
 },
 "nbformat": 4,
 "nbformat_minor": 2
}
